{
 "cells": [
  {
   "cell_type": "code",
   "execution_count": null,
   "metadata": {},
   "outputs": [],
   "source": [
    "import cv2\n",
    "import numpy as np\n",
    "import matplotlib.pyplot as plt\n",
    "\n",
    "from sklearn.decomposition import PCA"
   ]
  },
  {
   "cell_type": "markdown",
   "metadata": {},
   "source": [
    "## Préparation générale des données"
   ]
  },
  {
   "cell_type": "markdown",
   "metadata": {},
   "source": [
    "- (Déposer manuellement une des images récupérées par webscraping ou API dans le même dossier que le notebook ou travailler avec une image déjà présente.)\n",
    "- Trouver la fonction d'OpenCV (cv2) permettant de charger une image, et l'utiliser pour charger l'image choisie. <br>\n",
    "- A l'aide de la fonction cvtColor de cv2, convertir l'image vers l'espace COLOR_BGR2RGB."
   ]
  },
  {
   "cell_type": "code",
   "execution_count": null,
   "metadata": {},
   "outputs": [],
   "source": [
    "# Votre code ici"
   ]
  },
  {
   "cell_type": "markdown",
   "metadata": {},
   "source": [
    "- Afficher l'image à l'aide de plt."
   ]
  },
  {
   "cell_type": "code",
   "execution_count": null,
   "metadata": {},
   "outputs": [],
   "source": [
    "# Votre code ici"
   ]
  },
  {
   "cell_type": "markdown",
   "metadata": {},
   "source": [
    "- Afficher la taille de l'image."
   ]
  },
  {
   "cell_type": "code",
   "execution_count": null,
   "metadata": {},
   "outputs": [],
   "source": [
    "# Votre code ici"
   ]
  },
  {
   "cell_type": "markdown",
   "metadata": {},
   "source": [
    "- Séparer (\"split\") les 3 canaux de couleurs de l'image (bleu, vert, rouge)."
   ]
  },
  {
   "cell_type": "code",
   "execution_count": null,
   "metadata": {},
   "outputs": [],
   "source": [
    "# Votre code ici"
   ]
  },
  {
   "cell_type": "markdown",
   "metadata": {},
   "source": [
    "- A l'aide de subplots (plt), nous allons afficher les images de chaque canal de couleur (adapter les noms de variables si nécessaire) :"
   ]
  },
  {
   "cell_type": "code",
   "execution_count": null,
   "metadata": {},
   "outputs": [],
   "source": [
    "fig = plt.figure(figsize=(15, 7))\n",
    "fig.add_subplot(131)\n",
    "plt.title(\"Canal rouge\")\n",
    "plt.imshow(red)\n",
    "fig.add_subplot(132)\n",
    "plt.title(\"Canal vert\")\n",
    "plt.imshow(green)\n",
    "fig.add_subplot(133)\n",
    "plt.title(\"Canal bleu\")\n",
    "plt.imshow(blue)\n",
    "plt.show()"
   ]
  },
  {
   "cell_type": "markdown",
   "metadata": {},
   "source": [
    "## Préparation spécifique des données"
   ]
  },
  {
   "cell_type": "markdown",
   "metadata": {},
   "source": [
    "- Afficher les valeurs numériques contenues dans un canal de couleurs. Trouver le minimum et le maximum de ces valeurs."
   ]
  },
  {
   "cell_type": "code",
   "execution_count": null,
   "metadata": {},
   "outputs": [],
   "source": [
    "# Votre code ici"
   ]
  },
  {
   "cell_type": "markdown",
   "metadata": {},
   "source": [
    "- Normaliser les données."
   ]
  },
  {
   "cell_type": "code",
   "execution_count": null,
   "metadata": {},
   "outputs": [],
   "source": [
    "# Votre code ici"
   ]
  },
  {
   "cell_type": "markdown",
   "metadata": {},
   "source": [
    "## Première ACP"
   ]
  },
  {
   "cell_type": "markdown",
   "metadata": {},
   "source": [
    "- Préparer une constante comportant le nombre de composantes de l'ACP (200 pour le moment)."
   ]
  },
  {
   "cell_type": "code",
   "execution_count": null,
   "metadata": {},
   "outputs": [],
   "source": [
    "# Votre code ici"
   ]
  },
  {
   "cell_type": "markdown",
   "metadata": {},
   "source": [
    "- Réaliser 3 ACP distinctes pour chaque canal de couleurs, en fittant sur les données normalisées et en transformant ces mêmes données."
   ]
  },
  {
   "cell_type": "code",
   "execution_count": null,
   "metadata": {},
   "outputs": [],
   "source": [
    "# Votre code ici"
   ]
  },
  {
   "cell_type": "markdown",
   "metadata": {},
   "source": [
    "- Vérifier la taille des matrices ainsi obtenues et les comparer avec les tailles initiales."
   ]
  },
  {
   "cell_type": "code",
   "execution_count": null,
   "metadata": {},
   "outputs": [],
   "source": [
    "# Votre code ici"
   ]
  },
  {
   "cell_type": "markdown",
   "metadata": {},
   "source": [
    "- La fonction suivante permet de représenter les ratios de variance expliquée (inertie) en pourcentage, ainsi que le pourcentage cumulé. L'appeler sur les trois canaux."
   ]
  },
  {
   "cell_type": "code",
   "execution_count": null,
   "metadata": {},
   "outputs": [],
   "source": [
    "def add_subplot(x, fitted_pca, subplot_position, channel_name) -> None:\n",
    "    explained_variances = 100 * fitted_pca.explained_variance_ratio_\n",
    "    fig.add_subplot(subplot_position)\n",
    "    plt.title(f\"Canal {channel_name}\")\n",
    "    plt.ylabel(\"Pourcentage d'inertie\")\n",
    "    plt.xlabel(\"Rang de l'axe d'inertie\")\n",
    "    plt.bar(x, explained_variances)\n",
    "    plt.plot(x, explained_variances.cumsum(), color=\"red\", marker=\"o\")"
   ]
  },
  {
   "cell_type": "code",
   "execution_count": null,
   "metadata": {},
   "outputs": [],
   "source": [
    "# Votre code ici"
   ]
  },
  {
   "cell_type": "markdown",
   "metadata": {},
   "source": [
    "- Afficher le taux de variance totale expliquée par les n_components premières composantes de l'ACP pour chaque canal de couleur."
   ]
  },
  {
   "cell_type": "code",
   "execution_count": null,
   "metadata": {},
   "outputs": [],
   "source": [
    "# Votre code ici"
   ]
  },
  {
   "cell_type": "markdown",
   "metadata": {},
   "source": [
    "### Reconstruction de l'image réduite"
   ]
  },
  {
   "cell_type": "markdown",
   "metadata": {},
   "source": [
    "- Reconstruire les tableaux numpy des différents canaux à partir des transformées inverses des ACP. Afficher les tailles des objets obtenus. "
   ]
  },
  {
   "cell_type": "code",
   "execution_count": null,
   "metadata": {},
   "outputs": [],
   "source": [
    "# Votre code ici"
   ]
  },
  {
   "cell_type": "markdown",
   "metadata": {},
   "source": [
    "- Reconstruire le tableau numpy de l'image globale à l'aide de la fonction merge de cv2."
   ]
  },
  {
   "cell_type": "code",
   "execution_count": null,
   "metadata": {},
   "outputs": [],
   "source": [
    "# Votre code ici"
   ]
  },
  {
   "cell_type": "markdown",
   "metadata": {},
   "source": [
    "- La cellule suivante permet d'afficher côte à côte l'image initiale et l'image réduite."
   ]
  },
  {
   "cell_type": "code",
   "execution_count": null,
   "metadata": {},
   "outputs": [],
   "source": [
    "fig = plt.figure()\n",
    "fig.add_subplot(121)\n",
    "plt.title(\"Image originale\")\n",
    "plt.imshow(img)\n",
    "fig.add_subplot(122)\n",
    "plt.title(\"Image réduite\")\n",
    "plt.imshow(img_reduced)\n",
    "plt.show()"
   ]
  },
  {
   "cell_type": "markdown",
   "metadata": {},
   "source": [
    "### Réglage du nombre de composantes"
   ]
  },
  {
   "cell_type": "markdown",
   "metadata": {},
   "source": [
    "- A l'aide de l'éboulis des valeurs propres, proposer une valeur plus restrictive du nombre de composantes permettant malgré tout de \"bien\" expliquer la \"plupart\" de la variance. Relancer le code avec cette nouvelle valeur. Essayer éventuellement une valeur trop faible. Conclure quant à l'utilité et aux limites de l'ACP dans le contexte d'étude."
   ]
  }
 ],
 "metadata": {
  "kernelspec": {
   "display_name": "Python 3",
   "language": "python",
   "name": "python3"
  },
  "language_info": {
   "codemirror_mode": {
    "name": "ipython",
    "version": 3
   },
   "file_extension": ".py",
   "mimetype": "text/x-python",
   "name": "python",
   "nbconvert_exporter": "python",
   "pygments_lexer": "ipython3",
   "version": "3.11.4"
  }
 },
 "nbformat": 4,
 "nbformat_minor": 4
}
