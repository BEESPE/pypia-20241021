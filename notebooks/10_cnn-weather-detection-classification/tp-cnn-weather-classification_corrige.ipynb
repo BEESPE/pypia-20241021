{
 "cells": [
  {
   "cell_type": "markdown",
   "metadata": {},
   "source": [
    "Le but de ce TP est de réaliser une classification supervisée des images du TP précédent. 4 approches peuvent être envisagées :\n",
    "* Une approche simple par préparation initiale de l'ensemble des images avant classification supervisée.\n",
    "* Une approche par data generator, permettant facilement la data augmentation (les images sont alors directement récupérées à la volée dans le repertoire des images).\n",
    "* Une approche récente proposée par Tensorflow.org par DataSet, sans data augmentation.\n",
    "* Une approche par DataSet, avec data augmentation intégrée au modèle (layer en début de modèle).\n"
   ]
  },
  {
   "cell_type": "markdown",
   "metadata": {},
   "source": [
    "<font color=\"orange\">Préparer la cellule des imports.</font>"
   ]
  },
  {
   "cell_type": "code",
   "execution_count": 1,
   "metadata": {
    "scrolled": true
   },
   "outputs": [
    {
     "name": "stdout",
     "output_type": "stream",
     "text": [
      "Num GPUs Available:  0\n"
     ]
    }
   ],
   "source": [
    "import matplotlib.pyplot as plt\n",
    "import numpy as np\n",
    "import pandas as pd\n",
    "import pickle as pkl\n",
    "from plot_keras_history import show_history, plot_history\n",
    "import seaborn as sns\n",
    "from skimage import io\n",
    "from sklearn import metrics\n",
    "from sklearn.model_selection import train_test_split\n",
    "import tensorflow as tf\n",
    "from tensorflow.keras.models import Model, Sequential\n",
    "from tensorflow.keras.layers import GlobalAveragePooling2D, Dense, Dropout \n",
    "from tensorflow.keras.layers import Rescaling, RandomFlip, RandomRotation, RandomZoom\n",
    "from tensorflow.keras.callbacks import EarlyStopping, ModelCheckpoint\n",
    "from tensorflow.keras.applications.vgg16 import VGG16\n",
    "from tensorflow.keras.applications.vgg16 import preprocess_input\n",
    "from tensorflow.keras.preprocessing.image import load_img, img_to_array\n",
    "from tensorflow.keras.utils import to_categorical\n",
    "\n",
    "print(\"Num GPUs Available: \", len(tf.config.list_physical_devices('GPU')))"
   ]
  },
  {
   "cell_type": "markdown",
   "metadata": {},
   "source": [
    "<font color=\"orange\">Charger les fichiers pickle utilisés dans le TP précédent pour sérialiser nos variables utiles. Vérifier que les variables contiennent bien ce qu'on attend.</font>"
   ]
  },
  {
   "cell_type": "code",
   "execution_count": 2,
   "metadata": {},
   "outputs": [
    {
     "name": "stdout",
     "output_type": "stream",
     "text": [
      "[[ 1.9544766e+00 -1.4717954e+01 -5.3037477e+00 ... -7.2532974e-02\n",
      "  -5.0635785e-01 -2.6224542e-01]\n",
      " [ 6.2963510e-01 -1.2585759e+01 -2.3373365e-01 ...  6.8578728e-02\n",
      "   3.5400692e-01  1.1424346e-01]\n",
      " [-3.5353053e+00 -9.5045137e+00  1.0362120e+01 ... -2.8378537e-01\n",
      "  -3.3193159e-01  2.7808327e-02]\n",
      " ...\n",
      " [ 3.2934761e+01  2.1253059e+01 -1.2920221e+01 ... -2.9714820e-01\n",
      "  -2.1840538e-01 -4.5804556e-02]\n",
      " [ 3.4682747e+01  1.9640528e+01 -3.1260743e+00 ...  2.0042632e-03\n",
      "   1.2696417e-01  1.4020243e-01]\n",
      " [ 2.1140398e+01  2.8663256e+00 -1.1699773e+01 ... -2.1752882e-01\n",
      "   2.4104546e-01 -1.0651556e-01]]\n"
     ]
    },
    {
     "data": {
      "text/html": [
       "<div>\n",
       "<style scoped>\n",
       "    .dataframe tbody tr th:only-of-type {\n",
       "        vertical-align: middle;\n",
       "    }\n",
       "\n",
       "    .dataframe tbody tr th {\n",
       "        vertical-align: top;\n",
       "    }\n",
       "\n",
       "    .dataframe thead th {\n",
       "        text-align: right;\n",
       "    }\n",
       "</style>\n",
       "<table border=\"1\" class=\"dataframe\">\n",
       "  <thead>\n",
       "    <tr style=\"text-align: right;\">\n",
       "      <th></th>\n",
       "      <th>image_path</th>\n",
       "      <th>label_name</th>\n",
       "      <th>label</th>\n",
       "    </tr>\n",
       "  </thead>\n",
       "  <tbody>\n",
       "    <tr>\n",
       "      <th>0</th>\n",
       "      <td>.\\dataset\\cloudy1.jpg</td>\n",
       "      <td>cloudy</td>\n",
       "      <td>0</td>\n",
       "    </tr>\n",
       "    <tr>\n",
       "      <th>1</th>\n",
       "      <td>.\\dataset\\cloudy10.jpg</td>\n",
       "      <td>cloudy</td>\n",
       "      <td>0</td>\n",
       "    </tr>\n",
       "    <tr>\n",
       "      <th>2</th>\n",
       "      <td>.\\dataset\\cloudy100.jpg</td>\n",
       "      <td>cloudy</td>\n",
       "      <td>0</td>\n",
       "    </tr>\n",
       "    <tr>\n",
       "      <th>3</th>\n",
       "      <td>.\\dataset\\cloudy101.jpg</td>\n",
       "      <td>cloudy</td>\n",
       "      <td>0</td>\n",
       "    </tr>\n",
       "    <tr>\n",
       "      <th>4</th>\n",
       "      <td>.\\dataset\\cloudy102.jpg</td>\n",
       "      <td>cloudy</td>\n",
       "      <td>0</td>\n",
       "    </tr>\n",
       "  </tbody>\n",
       "</table>\n",
       "</div>"
      ],
      "text/plain": [
       "                image_path label_name  label\n",
       "0    .\\dataset\\cloudy1.jpg     cloudy      0\n",
       "1   .\\dataset\\cloudy10.jpg     cloudy      0\n",
       "2  .\\dataset\\cloudy100.jpg     cloudy      0\n",
       "3  .\\dataset\\cloudy101.jpg     cloudy      0\n",
       "4  .\\dataset\\cloudy102.jpg     cloudy      0"
      ]
     },
     "metadata": {},
     "output_type": "display_data"
    }
   ],
   "source": [
    "with open(\"features_array.pkl\", \"rb\") as handle:\n",
    "    feat_pca_array = pkl.load(handle)\n",
    "with open(\"img_df.pkl\", \"rb\") as handle:\n",
    "    img_df = pkl.load(handle)\n",
    "print(feat_pca_array)\n",
    "display(img_df.head())"
   ]
  },
  {
   "cell_type": "markdown",
   "metadata": {},
   "source": [
    "<font color=\"orange\">Redéclarer la liste des labels (dans l'ordre d'encodage avec le champ label).</font>"
   ]
  },
  {
   "cell_type": "code",
   "execution_count": 3,
   "metadata": {},
   "outputs": [],
   "source": [
    "LABELS_LIST = [\"cloudy\", \"rain\", \"shine\", \"sunrise\"]"
   ]
  },
  {
   "cell_type": "markdown",
   "metadata": {},
   "source": [
    "### Préparation des images"
   ]
  },
  {
   "cell_type": "markdown",
   "metadata": {},
   "source": [
    "<font color=\"orange\">En sélectionnant une image aléatoire du dataset, écrire le traitement que suivra cette image, en suivant les étapes suivantes :\n",
    "- charger l'image avec la fonction load_img du module tensorflow.keras.preprocessing.image, en utilisant l'argument target_size pour forcer une redimension fixée à 224x224,\n",
    "- convertir l'image en array avec la fonction img_to_array de ce même module,\n",
    "- appliquer la fonction de préprocessing déjà prête de VGG16 : preprocess_input du module tensorflow.keras.applications.vgg16.\n",
    "\n",
    "Ajouter une visualisation après l'étape 1 (pour se convaincre qu'on a bien chargé l'image initiale) ainsi qu'après l'étape 3 (pour visualiser que le préprocessing VGG16 déjà implémenté change significativement l'image, qui ne sera déjà plus vraiment interprétable à l'oeil).</font> Attention, petit rappel, après l'étape 1 l'objet est une image tandis qu'après la dernière étape il s'agit d'un array : les fonctions pour afficher ces deux objets ne sont donc pas tout à fait les mêmes."
   ]
  },
  {
   "cell_type": "code",
   "execution_count": 7,
   "metadata": {},
   "outputs": [
    {
     "data": {
      "image/jpeg": "[encoded data removed]",
      "image/png": "[encoded data removed]",
      "text/plain": [
       "<PIL.Image.Image image mode=RGB size=224x224>"
      ]
     },
     "metadata": {},
     "output_type": "display_data"
    },
    {
     "name": "stderr",
     "output_type": "stream",
     "text": [
      "Clipping input data to the valid range for imshow with RGB data ([0..1] for floats or [0..255] for integers).\n"
     ]
    },
    {
     "data": {
      "image/png": "[encoded data removed]",
      "text/plain": [
       "<Figure size 640x480 with 2 Axes>"
      ]
     },
     "metadata": {},
     "output_type": "display_data"
    }
   ],
   "source": [
    "img = load_img(\n",
    "    img_df['image_path'][765],\n",
    "    target_size=(224, 224),\n",
    ")\n",
    "display(img)\n",
    "img = img_to_array(img)\n",
    "img = preprocess_input(img)\n",
    "io.imshow(img)\n",
    "io.show()"
   ]
  },
  {
   "cell_type": "markdown",
   "metadata": {},
   "source": [
    "<font color=\"orange\">A partir du traitement unitaire écrit précédemment, écrire la fonction prenant en entrée notre dataframe et créant le tableau de toutes les images contenues dans le dataframe (dans l'ordre).</font> Utiliser une simple boucle for pour créer une liste de représentations array d'images (ne pas réfléchir spécialement à des opérations vectorielles, le chargement même des images n'est pas vectorisable), puis convertir cette liste elle-même en tableau numpy grâce à np.array. Ne pas oublier d'enlever les visualisations, qui ne feraient que nous polluer désormais lorsque la fonction sera appelée sur le dataset entier de plus de 1000 images."
   ]
  },
  {
   "cell_type": "code",
   "execution_count": 8,
   "metadata": {},
   "outputs": [],
   "source": [
    "def prepare_image(image_path: str) -> np.array:\n",
    "    \"\"\"Extract features from an image given its path.\"\"\"\n",
    "    img_array = img_to_array(load_img(image_path, target_size=(224, 224)))\n",
    "    img_array = np.expand_dims(img_array, axis=0)\n",
    "    img_array = preprocess_input(img_array)\n",
    "    return img_array"
   ]
  },
  {
   "cell_type": "code",
   "execution_count": 24,
   "metadata": {},
   "outputs": [],
   "source": [
    "X = img_df['image_path'].apply(prepare_image)\n",
    "X = np.stack(X)\n",
    "X = np.squeeze(X, axis=1)"
   ]
  },
  {
   "cell_type": "code",
   "execution_count": 25,
   "metadata": {},
   "outputs": [
    {
     "data": {
      "text/plain": [
       "(1125, 224, 224, 3)"
      ]
     },
     "execution_count": 25,
     "metadata": {},
     "output_type": "execute_result"
    }
   ],
   "source": [
    "X.shape"
   ]
  },
  {
   "cell_type": "code",
   "execution_count": 13,
   "metadata": {},
   "outputs": [],
   "source": [
    "def prepare_images(img_df: pd.DataFrame) -> np.ndarray:\n",
    "    prepared_images = []\n",
    "    for image_num in range(len(img_df['image_path'])):\n",
    "        img = (load_img(\n",
    "            img_df['image_path'][image_num],\n",
    "            target_size=(224, 224),\n",
    "        ))\n",
    "        img = img_to_array(img)\n",
    "        img = preprocess_input(img)\n",
    "        prepared_images.append(img)\n",
    "        prepared_images_np = np.array(prepared_images)\n",
    "    return prepared_images_np"
   ]
  },
  {
   "cell_type": "code",
   "execution_count": 14,
   "metadata": {},
   "outputs": [],
   "source": [
    "old_X = prepare_images(img_df=img_df)"
   ]
  },
  {
   "cell_type": "code",
   "execution_count": 27,
   "metadata": {},
   "outputs": [
    {
     "name": "stdout",
     "output_type": "stream",
     "text": [
      "(1125, 224, 224, 3)\n"
     ]
    },
    {
     "data": {
      "text/plain": [
       "array([[[[ True,  True,  True],\n",
       "         [ True,  True,  True],\n",
       "         [ True,  True,  True],\n",
       "         ...,\n",
       "         [ True,  True,  True],\n",
       "         [ True,  True,  True],\n",
       "         [ True,  True,  True]],\n",
       "\n",
       "        [[ True,  True,  True],\n",
       "         [ True,  True,  True],\n",
       "         [ True,  True,  True],\n",
       "         ...,\n",
       "         [ True,  True,  True],\n",
       "         [ True,  True,  True],\n",
       "         [ True,  True,  True]],\n",
       "\n",
       "        [[ True,  True,  True],\n",
       "         [ True,  True,  True],\n",
       "         [ True,  True,  True],\n",
       "         ...,\n",
       "         [ True,  True,  True],\n",
       "         [ True,  True,  True],\n",
       "         [ True,  True,  True]],\n",
       "\n",
       "        ...,\n",
       "\n",
       "        [[ True,  True,  True],\n",
       "         [ True,  True,  True],\n",
       "         [ True,  True,  True],\n",
       "         ...,\n",
       "         [ True,  True,  True],\n",
       "         [ True,  True,  True],\n",
       "         [ True,  True,  True]],\n",
       "\n",
       "        [[ True,  True,  True],\n",
       "         [ True,  True,  True],\n",
       "         [ True,  True,  True],\n",
       "         ...,\n",
       "         [ True,  True,  True],\n",
       "         [ True,  True,  True],\n",
       "         [ True,  True,  True]],\n",
       "\n",
       "        [[ True,  True,  True],\n",
       "         [ True,  True,  True],\n",
       "         [ True,  True,  True],\n",
       "         ...,\n",
       "         [ True,  True,  True],\n",
       "         [ True,  True,  True],\n",
       "         [ True,  True,  True]]],\n",
       "\n",
       "\n",
       "       [[[ True,  True,  True],\n",
       "         [ True,  True,  True],\n",
       "         [ True,  True,  True],\n",
       "         ...,\n",
       "         [ True,  True,  True],\n",
       "         [ True,  True,  True],\n",
       "         [ True,  True,  True]],\n",
       "\n",
       "        [[ True,  True,  True],\n",
       "         [ True,  True,  True],\n",
       "         [ True,  True,  True],\n",
       "         ...,\n",
       "         [ True,  True,  True],\n",
       "         [ True,  True,  True],\n",
       "         [ True,  True,  True]],\n",
       "\n",
       "        [[ True,  True,  True],\n",
       "         [ True,  True,  True],\n",
       "         [ True,  True,  True],\n",
       "         ...,\n",
       "         [ True,  True,  True],\n",
       "         [ True,  True,  True],\n",
       "         [ True,  True,  True]],\n",
       "\n",
       "        ...,\n",
       "\n",
       "        [[ True,  True,  True],\n",
       "         [ True,  True,  True],\n",
       "         [ True,  True,  True],\n",
       "         ...,\n",
       "         [ True,  True,  True],\n",
       "         [ True,  True,  True],\n",
       "         [ True,  True,  True]],\n",
       "\n",
       "        [[ True,  True,  True],\n",
       "         [ True,  True,  True],\n",
       "         [ True,  True,  True],\n",
       "         ...,\n",
       "         [ True,  True,  True],\n",
       "         [ True,  True,  True],\n",
       "         [ True,  True,  True]],\n",
       "\n",
       "        [[ True,  True,  True],\n",
       "         [ True,  True,  True],\n",
       "         [ True,  True,  True],\n",
       "         ...,\n",
       "         [ True,  True,  True],\n",
       "         [ True,  True,  True],\n",
       "         [ True,  True,  True]]],\n",
       "\n",
       "\n",
       "       [[[ True,  True,  True],\n",
       "         [ True,  True,  True],\n",
       "         [ True,  True,  True],\n",
       "         ...,\n",
       "         [ True,  True,  True],\n",
       "         [ True,  True,  True],\n",
       "         [ True,  True,  True]],\n",
       "\n",
       "        [[ True,  True,  True],\n",
       "         [ True,  True,  True],\n",
       "         [ True,  True,  True],\n",
       "         ...,\n",
       "         [ True,  True,  True],\n",
       "         [ True,  True,  True],\n",
       "         [ True,  True,  True]],\n",
       "\n",
       "        [[ True,  True,  True],\n",
       "         [ True,  True,  True],\n",
       "         [ True,  True,  True],\n",
       "         ...,\n",
       "         [ True,  True,  True],\n",
       "         [ True,  True,  True],\n",
       "         [ True,  True,  True]],\n",
       "\n",
       "        ...,\n",
       "\n",
       "        [[ True,  True,  True],\n",
       "         [ True,  True,  True],\n",
       "         [ True,  True,  True],\n",
       "         ...,\n",
       "         [ True,  True,  True],\n",
       "         [ True,  True,  True],\n",
       "         [ True,  True,  True]],\n",
       "\n",
       "        [[ True,  True,  True],\n",
       "         [ True,  True,  True],\n",
       "         [ True,  True,  True],\n",
       "         ...,\n",
       "         [ True,  True,  True],\n",
       "         [ True,  True,  True],\n",
       "         [ True,  True,  True]],\n",
       "\n",
       "        [[ True,  True,  True],\n",
       "         [ True,  True,  True],\n",
       "         [ True,  True,  True],\n",
       "         ...,\n",
       "         [ True,  True,  True],\n",
       "         [ True,  True,  True],\n",
       "         [ True,  True,  True]]],\n",
       "\n",
       "\n",
       "       ...,\n",
       "\n",
       "\n",
       "       [[[ True,  True,  True],\n",
       "         [ True,  True,  True],\n",
       "         [ True,  True,  True],\n",
       "         ...,\n",
       "         [ True,  True,  True],\n",
       "         [ True,  True,  True],\n",
       "         [ True,  True,  True]],\n",
       "\n",
       "        [[ True,  True,  True],\n",
       "         [ True,  True,  True],\n",
       "         [ True,  True,  True],\n",
       "         ...,\n",
       "         [ True,  True,  True],\n",
       "         [ True,  True,  True],\n",
       "         [ True,  True,  True]],\n",
       "\n",
       "        [[ True,  True,  True],\n",
       "         [ True,  True,  True],\n",
       "         [ True,  True,  True],\n",
       "         ...,\n",
       "         [ True,  True,  True],\n",
       "         [ True,  True,  True],\n",
       "         [ True,  True,  True]],\n",
       "\n",
       "        ...,\n",
       "\n",
       "        [[ True,  True,  True],\n",
       "         [ True,  True,  True],\n",
       "         [ True,  True,  True],\n",
       "         ...,\n",
       "         [ True,  True,  True],\n",
       "         [ True,  True,  True],\n",
       "         [ True,  True,  True]],\n",
       "\n",
       "        [[ True,  True,  True],\n",
       "         [ True,  True,  True],\n",
       "         [ True,  True,  True],\n",
       "         ...,\n",
       "         [ True,  True,  True],\n",
       "         [ True,  True,  True],\n",
       "         [ True,  True,  True]],\n",
       "\n",
       "        [[ True,  True,  True],\n",
       "         [ True,  True,  True],\n",
       "         [ True,  True,  True],\n",
       "         ...,\n",
       "         [ True,  True,  True],\n",
       "         [ True,  True,  True],\n",
       "         [ True,  True,  True]]],\n",
       "\n",
       "\n",
       "       [[[ True,  True,  True],\n",
       "         [ True,  True,  True],\n",
       "         [ True,  True,  True],\n",
       "         ...,\n",
       "         [ True,  True,  True],\n",
       "         [ True,  True,  True],\n",
       "         [ True,  True,  True]],\n",
       "\n",
       "        [[ True,  True,  True],\n",
       "         [ True,  True,  True],\n",
       "         [ True,  True,  True],\n",
       "         ...,\n",
       "         [ True,  True,  True],\n",
       "         [ True,  True,  True],\n",
       "         [ True,  True,  True]],\n",
       "\n",
       "        [[ True,  True,  True],\n",
       "         [ True,  True,  True],\n",
       "         [ True,  True,  True],\n",
       "         ...,\n",
       "         [ True,  True,  True],\n",
       "         [ True,  True,  True],\n",
       "         [ True,  True,  True]],\n",
       "\n",
       "        ...,\n",
       "\n",
       "        [[ True,  True,  True],\n",
       "         [ True,  True,  True],\n",
       "         [ True,  True,  True],\n",
       "         ...,\n",
       "         [ True,  True,  True],\n",
       "         [ True,  True,  True],\n",
       "         [ True,  True,  True]],\n",
       "\n",
       "        [[ True,  True,  True],\n",
       "         [ True,  True,  True],\n",
       "         [ True,  True,  True],\n",
       "         ...,\n",
       "         [ True,  True,  True],\n",
       "         [ True,  True,  True],\n",
       "         [ True,  True,  True]],\n",
       "\n",
       "        [[ True,  True,  True],\n",
       "         [ True,  True,  True],\n",
       "         [ True,  True,  True],\n",
       "         ...,\n",
       "         [ True,  True,  True],\n",
       "         [ True,  True,  True],\n",
       "         [ True,  True,  True]]],\n",
       "\n",
       "\n",
       "       [[[ True,  True,  True],\n",
       "         [ True,  True,  True],\n",
       "         [ True,  True,  True],\n",
       "         ...,\n",
       "         [ True,  True,  True],\n",
       "         [ True,  True,  True],\n",
       "         [ True,  True,  True]],\n",
       "\n",
       "        [[ True,  True,  True],\n",
       "         [ True,  True,  True],\n",
       "         [ True,  True,  True],\n",
       "         ...,\n",
       "         [ True,  True,  True],\n",
       "         [ True,  True,  True],\n",
       "         [ True,  True,  True]],\n",
       "\n",
       "        [[ True,  True,  True],\n",
       "         [ True,  True,  True],\n",
       "         [ True,  True,  True],\n",
       "         ...,\n",
       "         [ True,  True,  True],\n",
       "         [ True,  True,  True],\n",
       "         [ True,  True,  True]],\n",
       "\n",
       "        ...,\n",
       "\n",
       "        [[ True,  True,  True],\n",
       "         [ True,  True,  True],\n",
       "         [ True,  True,  True],\n",
       "         ...,\n",
       "         [ True,  True,  True],\n",
       "         [ True,  True,  True],\n",
       "         [ True,  True,  True]],\n",
       "\n",
       "        [[ True,  True,  True],\n",
       "         [ True,  True,  True],\n",
       "         [ True,  True,  True],\n",
       "         ...,\n",
       "         [ True,  True,  True],\n",
       "         [ True,  True,  True],\n",
       "         [ True,  True,  True]],\n",
       "\n",
       "        [[ True,  True,  True],\n",
       "         [ True,  True,  True],\n",
       "         [ True,  True,  True],\n",
       "         ...,\n",
       "         [ True,  True,  True],\n",
       "         [ True,  True,  True],\n",
       "         [ True,  True,  True]]]])"
      ]
     },
     "execution_count": 27,
     "metadata": {},
     "output_type": "execute_result"
    }
   ],
   "source": [
    "print(old_X.shape)\n",
    "X == old_X"
   ]
  },
  {
   "cell_type": "markdown",
   "metadata": {},
   "source": [
    "<font color=\"orange\">Appeler cette fonction sur notre dataframe d'images.</font> Ce traitement prendra plusieurs minutes."
   ]
  },
  {
   "cell_type": "markdown",
   "metadata": {},
   "source": [
    "<font color=\"orange\">Préparer le vecteur y en appelant to_categorical sur la colonne contenant le label (numérique).</font>"
   ]
  },
  {
   "cell_type": "code",
   "execution_count": 28,
   "metadata": {},
   "outputs": [],
   "source": [
    "y = to_categorical(img_df['label'])"
   ]
  },
  {
   "cell_type": "markdown",
   "metadata": {},
   "source": [
    "<font color=\"orange\">Séparer le jeu de données en un jeu d'entraînement et un jeu de test. Fixer un random_state pour garantir la reproductibilité des résultats pendant la phase d'élaboration de notre modèle. Stratifier selon la cible.</font>"
   ]
  },
  {
   "cell_type": "code",
   "execution_count": 29,
   "metadata": {},
   "outputs": [],
   "source": [
    "X_macro_train, X_test, y_macro_train, y_test = train_test_split(X, y, stratify=y, test_size=0.2, random_state=0)"
   ]
  },
  {
   "cell_type": "markdown",
   "metadata": {},
   "source": [
    "Remarque : généralement cette étape est effectuée AVANT tout autre traitement afin d'éviter tout data leakage. Pour autant, ici, la fonction de préprocessing s'applique aux images de façon unitaire (le traitement d'un image n'est pas dépendant des autres images), et, étant donné la stratification, toutes les classes du référentiel seront nécessairement représentées dans le jeu d'entraînement et dans celui de test, de sorte que l'encoding de la cible dans le jeu de test ne révèlera pas de surprise de type modalité inconnue."
   ]
  },
  {
   "cell_type": "markdown",
   "metadata": {},
   "source": [
    "<font color=\"orange\">Redécouper le jeu d'entraînement en mini-jeu d'entraînement et jeu de validation.</font>"
   ]
  },
  {
   "cell_type": "code",
   "execution_count": 30,
   "metadata": {},
   "outputs": [],
   "source": [
    "X_train, X_val, y_train, y_val = train_test_split(X_macro_train, y_macro_train, stratify=y_macro_train, test_size=0.2, random_state=0)"
   ]
  },
  {
   "cell_type": "code",
   "execution_count": 31,
   "metadata": {},
   "outputs": [
    {
     "data": {
      "text/plain": [
       "(720, 224, 224, 3)"
      ]
     },
     "execution_count": 31,
     "metadata": {},
     "output_type": "execute_result"
    }
   ],
   "source": [
    "X_train.shape"
   ]
  },
  {
   "cell_type": "markdown",
   "metadata": {},
   "source": [
    "### Préparation du modèle"
   ]
  },
  {
   "cell_type": "markdown",
   "metadata": {},
   "source": [
    "<font color=\"orange\">Ecrire une fonction permettant de créer notre modèle VGG16.</font> Pour cela :\n",
    "- instancier un objet VGG16. A partir de la doc, faire en sorte d'initialiser les points à ceux du modèle pré-entraîné sur le jeu ImageNet. Choisir par exemple de ne pas inclure les 3 premières couches fully-connected, et spécifier dans ce cas une taille d'entrée de 224x224x3\n",
    "- indiquer que toutes ces couches seront \"gelées\" (non entraînables). Pour cela, boucler sur l'ensemble des éléments de model.layers et définir l'attribut trainable à False.\n",
    "- stocker dans une variable model.output, puis ajouter une couche de pooling, une couche dense, une couche de dropout et une dernière couche dense.\n",
    "- définir le nouveau modèle et le compiler."
   ]
  },
  {
   "cell_type": "code",
   "execution_count": 32,
   "metadata": {},
   "outputs": [],
   "source": [
    "def create_model():\n",
    "    \"\"\"Create a model from the VGG16 model, adding a task head for image\n",
    "    classification.\n",
    "    \"\"\"\n",
    "    # Récupération modèle pré-entraîné\n",
    "    model0 = VGG16(include_top=False, weights=\"imagenet\", input_shape=(224, 224, 3))\n",
    "\n",
    "    # Layer non entraînables = on garde les poids du modèle pré-entraîné\n",
    "    for layer in model0.layers:\n",
    "        layer.trainable = False\n",
    "\n",
    "    # Récupérer la sortie de ce réseau\n",
    "    x = model0.output\n",
    "    # Compléter le modèle\n",
    "    x = GlobalAveragePooling2D()(x)\n",
    "    x = Dense(256, activation='relu')(x)\n",
    "    x = Dropout(0.5)(x)\n",
    "    predictions = Dense(4, activation='softmax')(x)\n",
    "\n",
    "    # Définir le nouveau modèle\n",
    "    model = Model(inputs=model0.input, outputs=predictions)\n",
    "    # compilation du modèle \n",
    "    model.compile(loss=\"categorical_crossentropy\", optimizer='rmsprop', metrics=[\"accuracy\"])\n",
    "\n",
    "    print(model.summary())\n",
    "    \n",
    "    return model\n"
   ]
  },
  {
   "cell_type": "code",
   "execution_count": 33,
   "metadata": {},
   "outputs": [],
   "source": [
    "from tensorflow.keras.layers import Lambda\n",
    "IMG_SIZE = 224\n",
    "\n",
    "def create_model_fct2(num_categories):\n",
    "    # Data augmentation\n",
    "    data_augmentation = Sequential([\n",
    "        RandomFlip(\"horizontal\", input_shape=(IMG_SIZE, IMG_SIZE, 3)),\n",
    "        RandomRotation(0.1),\n",
    "        RandomZoom(0.1),\n",
    "        #Rescaling(1./127.5, offset=-1.0)\n",
    "    ])\n",
    "\n",
    "    # Récupération modèle pré-entraîné\n",
    "    model0 = VGG16(include_top=False, weights=\"imagenet\", input_shape=(IMG_SIZE, IMG_SIZE, 3))\n",
    "\n",
    "    # Layer non entraînables = on garde les poids du modèle pré-entraîné\n",
    "    for layer in model0.layers:\n",
    "        layer.trainable = False\n",
    "\n",
    "#     # Récupérer la sortie de ce réseau\n",
    "#     x = model0.output\n",
    "#     x = Lambda(resize_and_rescale, output_shape=(IMG_SIZE, IMG_SIZE, 3))(x)\n",
    "#     x = data_augmentation(x)\n",
    "#     x = GlobalAveragePooling2D()(x)\n",
    "#     x = Dense(256, activation='relu')(x)\n",
    "#     x = Dropout(0.5)(x)\n",
    "#     predictions = Dense(num_categories, activation='softmax')(x)\n",
    "\n",
    "#     # Définir le nouveau modèle\n",
    "#     model = Model(inputs=model0.input, outputs=predictions)\n",
    "    \n",
    "    model = Sequential([\n",
    "                data_augmentation,\n",
    "                Rescaling(1./127.5, offset=-1),\n",
    "                model0,\n",
    "                GlobalAveragePooling2D(),\n",
    "                Dense(256, activation='relu'),\n",
    "                Dropout(0.5),\n",
    "                Dense(num_categories, activation='softmax')\n",
    "                ])\n",
    "\n",
    "    # compilation du modèle\n",
    "    loss = \"categorical_crossentropy\"\n",
    "    optimizer = 'adam'\n",
    "    model_metrics = [\"accuracy\"]\n",
    "\n",
    "    model.compile(loss=loss, optimizer=optimizer, metrics=model_metrics)\n",
    "\n",
    "    print(model.summary())\n",
    "\n",
    "    return model"
   ]
  },
  {
   "cell_type": "markdown",
   "metadata": {},
   "source": [
    "<font color=\"orange\">Créer effectivement le modèle, avec un context manager spécifiant le device à utiliser (c'est ici qu'on spécifierait quel GPU utiliser si on en disposer). Dans notre cas, utilisons \"/cpu:0\"</font>"
   ]
  },
  {
   "cell_type": "code",
   "execution_count": 34,
   "metadata": {},
   "outputs": [
    {
     "name": "stdout",
     "output_type": "stream",
     "text": [
      "Model: \"sequential_1\"\n",
      "_________________________________________________________________\n",
      " Layer (type)                Output Shape              Param #   \n",
      "=================================================================\n",
      " sequential (Sequential)     (None, 224, 224, 3)       0         \n",
      "                                                                 \n",
      " rescaling (Rescaling)       (None, 224, 224, 3)       0         \n",
      "                                                                 \n",
      " vgg16 (Functional)          (None, 7, 7, 512)         14714688  \n",
      "                                                                 \n",
      " global_average_pooling2d (  (None, 512)               0         \n",
      " GlobalAveragePooling2D)                                         \n",
      "                                                                 \n",
      " dense (Dense)               (None, 256)               131328    \n",
      "                                                                 \n",
      " dropout (Dropout)           (None, 256)               0         \n",
      "                                                                 \n",
      " dense_1 (Dense)             (None, 4)                 1028      \n",
      "                                                                 \n",
      "=================================================================\n",
      "Total params: 14847044 (56.64 MB)\n",
      "Trainable params: 132356 (517.02 KB)\n",
      "Non-trainable params: 14714688 (56.13 MB)\n",
      "_________________________________________________________________\n",
      "None\n"
     ]
    }
   ],
   "source": [
    "with tf.device(\"/cpu:0\"): \n",
    "    model1 = create_model_fct2(4)"
   ]
  },
  {
   "cell_type": "markdown",
   "metadata": {},
   "source": [
    "<font color=\"orange\">Créer un \"callback\" pour créer un early stopping de la manière suivante et sauvegarder le modèle de la manière suivante :</font>"
   ]
  },
  {
   "cell_type": "code",
   "execution_count": 35,
   "metadata": {
    "scrolled": true
   },
   "outputs": [],
   "source": [
    "model1_save_path1 = \"./model1_best_weights.h5\"\n",
    "checkpoint = ModelCheckpoint(model1_save_path1, monitor='val_loss', verbose=1, save_best_only=True, mode='min')\n",
    "es = EarlyStopping(monitor='val_loss', mode='min', verbose=1, patience=5)\n",
    "callbacks_list = [checkpoint, es]"
   ]
  },
  {
   "cell_type": "markdown",
   "metadata": {},
   "source": [
    "<font color=\"orange\">A l'intérieur du context manager spécifiant le device à utiliser, lancer l'entraînement du modèle. Prévoir dès maintenant de sauvegarder la sortie dans une variable appelée history (nous l'utiliserons plus tard). Attention à bien préciser le jeu de validation ! </font>"
   ]
  },
  {
   "cell_type": "code",
   "execution_count": 36,
   "metadata": {
    "scrolled": true
   },
   "outputs": [
    {
     "name": "stdout",
     "output_type": "stream",
     "text": [
      "Epoch 1/10\n",
      "12/12 [==============================] - ETA: 0s - loss: 1.3486 - accuracy: 0.3639\n",
      "Epoch 1: val_loss improved from inf to 1.05983, saving model to .\\model1_best_weights.h5\n"
     ]
    },
    {
     "name": "stderr",
     "output_type": "stream",
     "text": [
      "c:\\Users\\bspeziale\\AppData\\Local\\pypoetry\\Cache\\virtualenvs\\test-yOZBwoax-py3.11\\Lib\\site-packages\\keras\\src\\engine\\training.py:3079: UserWarning: You are saving your model as an HDF5 file via `model.save()`. This file format is considered legacy. We recommend using instead the native Keras format, e.g. `model.save('my_model.keras')`.\n",
      "  saving_api.save_model(\n"
     ]
    },
    {
     "name": "stdout",
     "output_type": "stream",
     "text": [
      "12/12 [==============================] - 146s 12s/step - loss: 1.3486 - accuracy: 0.3639 - val_loss: 1.0598 - val_accuracy: 0.6333\n",
      "Epoch 2/10\n",
      "12/12 [==============================] - ETA: 0s - loss: 0.9783 - accuracy: 0.5917 \n",
      "Epoch 2: val_loss improved from 1.05983 to 0.86639, saving model to .\\model1_best_weights.h5\n",
      "12/12 [==============================] - 156s 13s/step - loss: 0.9783 - accuracy: 0.5917 - val_loss: 0.8664 - val_accuracy: 0.7000\n",
      "Epoch 3/10\n",
      "12/12 [==============================] - ETA: 0s - loss: 0.7801 - accuracy: 0.7153 \n",
      "Epoch 3: val_loss improved from 0.86639 to 0.70390, saving model to .\\model1_best_weights.h5\n",
      "12/12 [==============================] - 147s 12s/step - loss: 0.7801 - accuracy: 0.7153 - val_loss: 0.7039 - val_accuracy: 0.7944\n",
      "Epoch 4/10\n",
      "12/12 [==============================] - ETA: 0s - loss: 0.6524 - accuracy: 0.7903 \n",
      "Epoch 4: val_loss improved from 0.70390 to 0.61419, saving model to .\\model1_best_weights.h5\n",
      "12/12 [==============================] - 150s 13s/step - loss: 0.6524 - accuracy: 0.7903 - val_loss: 0.6142 - val_accuracy: 0.7833\n",
      "Epoch 5/10\n",
      "12/12 [==============================] - ETA: 0s - loss: 0.5493 - accuracy: 0.8319\n",
      "Epoch 5: val_loss improved from 0.61419 to 0.54631, saving model to .\\model1_best_weights.h5\n",
      "12/12 [==============================] - 143s 12s/step - loss: 0.5493 - accuracy: 0.8319 - val_loss: 0.5463 - val_accuracy: 0.8278\n",
      "Epoch 6/10\n",
      "12/12 [==============================] - ETA: 0s - loss: 0.4902 - accuracy: 0.8403 \n",
      "Epoch 6: val_loss improved from 0.54631 to 0.47870, saving model to .\\model1_best_weights.h5\n",
      "12/12 [==============================] - 143s 12s/step - loss: 0.4902 - accuracy: 0.8403 - val_loss: 0.4787 - val_accuracy: 0.8722\n",
      "Epoch 7/10\n",
      "12/12 [==============================] - ETA: 0s - loss: 0.4310 - accuracy: 0.8653 \n",
      "Epoch 7: val_loss improved from 0.47870 to 0.42575, saving model to .\\model1_best_weights.h5\n",
      "12/12 [==============================] - 155s 13s/step - loss: 0.4310 - accuracy: 0.8653 - val_loss: 0.4257 - val_accuracy: 0.8889\n",
      "Epoch 8/10\n",
      "12/12 [==============================] - ETA: 0s - loss: 0.3896 - accuracy: 0.8806 \n",
      "Epoch 8: val_loss improved from 0.42575 to 0.42076, saving model to .\\model1_best_weights.h5\n",
      "12/12 [==============================] - 156s 13s/step - loss: 0.3896 - accuracy: 0.8806 - val_loss: 0.4208 - val_accuracy: 0.8667\n",
      "Epoch 9/10\n",
      "12/12 [==============================] - ETA: 0s - loss: 0.3720 - accuracy: 0.8833\n",
      "Epoch 9: val_loss improved from 0.42076 to 0.37334, saving model to .\\model1_best_weights.h5\n",
      "12/12 [==============================] - 137s 12s/step - loss: 0.3720 - accuracy: 0.8833 - val_loss: 0.3733 - val_accuracy: 0.8944\n",
      "Epoch 10/10\n",
      "12/12 [==============================] - ETA: 0s - loss: 0.3302 - accuracy: 0.9097 \n",
      "Epoch 10: val_loss improved from 0.37334 to 0.35606, saving model to .\\model1_best_weights.h5\n",
      "12/12 [==============================] - 153s 13s/step - loss: 0.3302 - accuracy: 0.9097 - val_loss: 0.3561 - val_accuracy: 0.8944\n"
     ]
    }
   ],
   "source": [
    "with tf.device('/cpu:0'): \n",
    "    history1 = model1.fit(\n",
    "        X_train,\n",
    "        y_train,\n",
    "        epochs=10,\n",
    "        batch_size=64,\n",
    "        callbacks=callbacks_list,\n",
    "        validation_data=(X_val, y_val),\n",
    "        verbose=1,\n",
    "    )\n"
   ]
  },
  {
   "cell_type": "markdown",
   "metadata": {},
   "source": [
    "<font color=\"orange\">Vérifier le score du dernier epoch sur le jeu d'entraînement et le jeu de validation grâce à la méthode evaluate de notre modèle entraîné.</font>"
   ]
  },
  {
   "cell_type": "code",
   "execution_count": 37,
   "metadata": {
    "scrolled": true
   },
   "outputs": [
    {
     "name": "stdout",
     "output_type": "stream",
     "text": [
      "23/23 [==============================] - 118s 5s/step - loss: 0.3111 - accuracy: 0.9056\n",
      "Training Accuracy: 0.9056\n",
      "\n",
      "6/6 [==============================] - 32s 5s/step - loss: 0.3561 - accuracy: 0.8944\n",
      "Validation Accuracy: 0.8944\n"
     ]
    }
   ],
   "source": [
    "loss, accuracy = model1.evaluate(X_train, y_train, verbose=True)\n",
    "print(\"Training Accuracy: {:.4f}\".format(accuracy))\n",
    "print()\n",
    "loss, accuracy = model1.evaluate(X_val, y_val, verbose=True)\n",
    "print(\"Validation Accuracy: {:.4f}\".format(accuracy))"
   ]
  },
  {
   "cell_type": "markdown",
   "metadata": {},
   "source": [
    "<font color=\"orange\">Vérifier le score de l'epoch optimal sur le jeu de validation et le jeu de test.</font>"
   ]
  },
  {
   "cell_type": "code",
   "execution_count": 38,
   "metadata": {},
   "outputs": [
    {
     "name": "stdout",
     "output_type": "stream",
     "text": [
      "Validation Accuracy :  0.8944\n",
      "Test Accuracy       :  0.8578\n"
     ]
    }
   ],
   "source": [
    "model1.load_weights(model1_save_path1)\n",
    "\n",
    "loss, accuracy = model1.evaluate(X_val, y_val, verbose=False)\n",
    "print(\"Validation Accuracy :  {:.4f}\".format(accuracy))\n",
    "\n",
    "loss, accuracy = model1.evaluate(X_test, y_test, verbose=False)\n",
    "print(\"Test Accuracy       :  {:.4f}\".format(accuracy))\n"
   ]
  },
  {
   "cell_type": "markdown",
   "metadata": {},
   "source": [
    "<font color=\"orange\">Consulter la doc de plot_keras_history. A partir de celle-ci, visualiser l'évolution de la loss et de l'accuracy au fil des epochs.</font>"
   ]
  },
  {
   "cell_type": "code",
   "execution_count": 39,
   "metadata": {
    "scrolled": false
   },
   "outputs": [
    {
     "data": {
      "image/png": "[encoded data removed]",
      "text/plain": [
       "<Figure size 1000x500 with 2 Axes>"
      ]
     },
     "metadata": {},
     "output_type": "display_data"
    }
   ],
   "source": [
    "show_history(history1)\n",
    "plot_history(history1, path=\"standard.png\")\n",
    "plt.close()"
   ]
  },
  {
   "cell_type": "markdown",
   "metadata": {},
   "source": [
    "<font color=\"orange\">Afficher les classes réelles et prédites sur les images du jeu de validation.</font>"
   ]
  },
  {
   "cell_type": "code",
   "execution_count": 40,
   "metadata": {
    "scrolled": true
   },
   "outputs": [
    {
     "name": "stdout",
     "output_type": "stream",
     "text": [
      "6/6 [==============================] - 33s 5s/step\n",
      "[2 0 3 2 2 0 2 2 0 0 0 2 0 2 2 3 3 3 2 1 2 3 0 2 1 3 0 0 3 0 2 2 2 1 3 0 1\n",
      " 1 0 0 1 3 2 0 3 3 1 1 0 3 2 3 3 0 1 0 2 3 1 0 0 3 3 3 1 3 3 0 3 1 3 1 2 2\n",
      " 0 2 3 2 1 0 1 2 0 3 2 1 1 2 2 0 1 1 1 0 3 0 3 0 3 2 3 0 3 0 3 1 0 2 3 3 0\n",
      " 2 3 0 3 3 0 2 3 3 1 1 1 2 3 3 0 0 3 3 0 1 3 0 2 2 3 2 1 2 1 1 3 0 3 0 0 0\n",
      " 3 2 3 3 3 1 0 1 0 1 3 1 1 0 3 3 2 0 0 3 0 2 3 3 2 1 2 2 0 3 3 2]\n",
      "[2 0 3 3 2 0 2 2 2 0 2 2 0 2 2 3 3 3 3 1 2 3 0 2 1 3 0 0 3 0 2 3 2 1 3 0 1\n",
      " 1 0 0 1 3 2 0 3 3 1 1 0 3 2 3 3 2 1 0 2 3 1 0 0 3 3 3 1 3 3 0 3 1 3 1 2 2\n",
      " 0 2 3 3 1 2 1 2 0 3 2 1 1 2 2 3 1 1 1 0 3 0 3 0 3 2 3 0 3 0 3 1 0 2 3 3 0\n",
      " 3 3 0 3 3 0 2 3 2 1 1 1 3 3 3 0 0 3 3 0 1 2 0 3 2 3 2 1 2 1 1 3 0 3 0 0 0\n",
      " 3 2 3 3 3 1 3 1 0 1 3 1 1 1 3 3 2 0 3 3 2 3 3 3 2 1 2 2 0 3 3 2]\n"
     ]
    }
   ],
   "source": [
    "y_val_num = np.argmax(y_val, axis=1)\n",
    "y_val_pred = np.argmax(model1.predict(X_val), axis=1)\n",
    "\n",
    "print(y_val_num)\n",
    "print(y_val_pred)"
   ]
  },
  {
   "cell_type": "markdown",
   "metadata": {},
   "source": [
    "<font color=\"orange\">De manière analogue au TP précédent, afficher la matrice de confusion associée ainsi que le rapport de classification.</font>"
   ]
  },
  {
   "cell_type": "code",
   "execution_count": 41,
   "metadata": {},
   "outputs": [
    {
     "name": "stdout",
     "output_type": "stream",
     "text": [
      "[[39  1  5  3]\n",
      " [ 0 34  0  0]\n",
      " [ 0  0 33  8]\n",
      " [ 0  0  2 55]]\n"
     ]
    }
   ],
   "source": [
    "conf_mat = metrics.confusion_matrix(\n",
    "    y_true=y_val_num,\n",
    "    y_pred=y_val_pred,\n",
    ")\n",
    "print(conf_mat)"
   ]
  },
  {
   "cell_type": "code",
   "execution_count": 42,
   "metadata": {},
   "outputs": [
    {
     "data": {
      "image/png": "[encoded data removed]",
      "text/plain": [
       "<Figure size 640x480 with 2 Axes>"
      ]
     },
     "metadata": {},
     "output_type": "display_data"
    }
   ],
   "source": [
    "sns.heatmap(\n",
    "    data=conf_mat,\n",
    "    annot=True,\n",
    "    cmap=\"Blues\",\n",
    "    fmt=\"g\",\n",
    "    xticklabels=LABELS_LIST,\n",
    "    yticklabels=LABELS_LIST,\n",
    ")\n",
    "plt.xlabel(\"Classe prédite\")\n",
    "plt.ylabel(\"Classe réelle\")\n",
    "plt.show()"
   ]
  },
  {
   "cell_type": "code",
   "execution_count": 43,
   "metadata": {},
   "outputs": [
    {
     "name": "stdout",
     "output_type": "stream",
     "text": [
      "              precision    recall  f1-score   support\n",
      "\n",
      "           0       1.00      0.81      0.90        48\n",
      "           1       0.97      1.00      0.99        34\n",
      "           2       0.82      0.80      0.81        41\n",
      "           3       0.83      0.96      0.89        57\n",
      "\n",
      "    accuracy                           0.89       180\n",
      "   macro avg       0.91      0.90      0.90       180\n",
      "weighted avg       0.90      0.89      0.89       180\n",
      "\n"
     ]
    }
   ],
   "source": [
    "print(metrics.classification_report(y_val_num, y_val_pred))"
   ]
  },
  {
   "cell_type": "markdown",
   "metadata": {},
   "source": [
    "<font color=\"orange\">Essayer éventuellement de visualiser les prédictions sur les images de test. <br> Il serait en particulier intéressant de voir la prédiction du modèle sur des images présentant des écueils soulevés dans le TP précédent (par exemple des images avec de la neige) qui n'auraient pas été utilisées dans le jeu d'entraînement, s'il y en a.</font>"
   ]
  },
  {
   "cell_type": "code",
   "execution_count": 44,
   "metadata": {},
   "outputs": [],
   "source": [
    "def predict(paths):\n",
    "    import os\n",
    "    img_df = pd.DataFrame(\n",
    "        {\n",
    "            \"image_path\": [\n",
    "                os.path.join(os.getcwd(), path)\n",
    "                for path in paths\n",
    "            ]\n",
    "        }\n",
    "    )\n",
    "    X = prepare_images(img_df=img_df)\n",
    "    y_class_pred = np.argmax(model1.predict(X), axis=1)\n",
    "    y_class_pred = np.array([LABELS_LIST[i] for i in y_class_pred])\n",
    "    return y_class_pred\n"
   ]
  },
  {
   "cell_type": "code",
   "execution_count": 45,
   "metadata": {},
   "outputs": [
    {
     "name": "stdout",
     "output_type": "stream",
     "text": [
      "1/1 [==============================] - 1s 665ms/step\n"
     ]
    },
    {
     "data": {
      "text/plain": [
       "array(['rain', 'sunrise'], dtype='<U7')"
      ]
     },
     "execution_count": 45,
     "metadata": {},
     "output_type": "execute_result"
    }
   ],
   "source": [
    "predict([\n",
    "    \"test_image_rain.jpg\",\n",
    "    \"test_image_sunrise.jpg\",\n",
    "])"
   ]
  },
  {
   "cell_type": "markdown",
   "metadata": {},
   "source": [
    "### Data augmentation (intégrée au modèle)"
   ]
  },
  {
   "cell_type": "markdown",
   "metadata": {},
   "source": [
    "Une ressource utile est celle de tensorflow sur la data augmentation, située à l'adresse suivante : https://www.tensorflow.org/tutorials/images/data_augmentation"
   ]
  },
  {
   "cell_type": "markdown",
   "metadata": {},
   "source": [
    "Grâce au tutorial (première méthode), créer une data augmentation contenant RandomFlip, RandomRotation et RandomZoom."
   ]
  },
  {
   "cell_type": "code",
   "execution_count": 26,
   "metadata": {},
   "outputs": [],
   "source": [
    "def create_model_with_data_augmentation() :\n",
    "    # Data augmentation\n",
    "    data_augmentation = Sequential([\n",
    "        RandomFlip(\"horizontal\", input_shape=(224, 224, 3)),\n",
    "        RandomRotation(0.1),\n",
    "        RandomZoom(0.1),\n",
    "      ])\n",
    "    \n",
    "    # Récupération modèle pré-entraîné\n",
    "    model_base = VGG16(include_top=False, weights=\"imagenet\", input_shape=(224, 224, 3))\n",
    "    for layer in model_base.layers:\n",
    "        layer.trainable = False\n",
    "\n",
    "    # Définition du nouveau modèle\n",
    "    model = Sequential([\n",
    "      data_augmentation,\n",
    "      Rescaling(1./127.5, offset=-1),\n",
    "      model_base,\n",
    "      GlobalAveragePooling2D(),\n",
    "      Dense(256, activation='relu'),\n",
    "      Dropout(0.5),\n",
    "      Dense(4, activation='softmax')\n",
    "    ])\n",
    "\n",
    "    # compilation du modèle \n",
    "    model.compile(loss=\"categorical_crossentropy\", optimizer='adam', metrics=[\"accuracy\"])\n",
    "\n",
    "    print(model.summary())\n",
    "    \n",
    "    return model\n",
    "    "
   ]
  },
  {
   "cell_type": "code",
   "execution_count": 27,
   "metadata": {
    "scrolled": true
   },
   "outputs": [
    {
     "name": "stdout",
     "output_type": "stream",
     "text": [
      "Model: \"sequential_5\"\n",
      "_________________________________________________________________\n",
      " Layer (type)                Output Shape              Param #   \n",
      "=================================================================\n",
      " sequential_4 (Sequential)   (None, 224, 224, 3)       0         \n",
      "                                                                 \n",
      " rescaling_2 (Rescaling)     (None, 224, 224, 3)       0         \n",
      "                                                                 \n",
      " vgg16 (Functional)          (None, 7, 7, 512)         14714688  \n",
      "                                                                 \n",
      " global_average_pooling2d_2  (None, 512)               0         \n",
      "  (GlobalAveragePooling2D)                                       \n",
      "                                                                 \n",
      " dense_4 (Dense)             (None, 256)               131328    \n",
      "                                                                 \n",
      " dropout_2 (Dropout)         (None, 256)               0         \n",
      "                                                                 \n",
      " dense_5 (Dense)             (None, 4)                 1028      \n",
      "                                                                 \n",
      "=================================================================\n",
      "Total params: 14847044 (56.64 MB)\n",
      "Trainable params: 132356 (517.02 KB)\n",
      "Non-trainable params: 14714688 (56.13 MB)\n",
      "_________________________________________________________________\n",
      "None\n"
     ]
    }
   ],
   "source": [
    "# Création du modèle\n",
    "with tf.device('/cpu:0'): \n",
    "    model4 = create_model_with_data_augmentation()\n",
    "\n",
    "# Création du callback\n",
    "model4_save_path = \"./model4_best_weights.h5\"\n",
    "checkpoint = ModelCheckpoint(model4_save_path, monitor='val_loss', verbose=1, save_best_only=True, mode='min')\n",
    "es = EarlyStopping(monitor='val_loss', mode='min', verbose=1, patience=5)\n",
    "callbacks_list = [checkpoint, es]\n"
   ]
  },
  {
   "cell_type": "code",
   "execution_count": 28,
   "metadata": {
    "scrolled": true
   },
   "outputs": [
    {
     "name": "stdout",
     "output_type": "stream",
     "text": [
      "Epoch 1/10\n",
      "12/12 [==============================] - ETA: 0s - loss: 1.3558 - accuracy: 0.3639 \n",
      "Epoch 1: val_loss improved from inf to 1.04060, saving model to .\\model4_best_weights.h5\n",
      "12/12 [==============================] - 151s 12s/step - loss: 1.3558 - accuracy: 0.3639 - val_loss: 1.0406 - val_accuracy: 0.5556\n",
      "Epoch 2/10\n"
     ]
    },
    {
     "name": "stderr",
     "output_type": "stream",
     "text": [
      "c:\\Users\\bspeziale\\AppData\\Local\\pypoetry\\Cache\\virtualenvs\\test-yOZBwoax-py3.11\\Lib\\site-packages\\keras\\src\\engine\\training.py:3079: UserWarning: You are saving your model as an HDF5 file via `model.save()`. This file format is considered legacy. We recommend using instead the native Keras format, e.g. `model.save('my_model.keras')`.\n",
      "  saving_api.save_model(\n"
     ]
    },
    {
     "name": "stdout",
     "output_type": "stream",
     "text": [
      "12/12 [==============================] - ETA: 0s - loss: 0.9434 - accuracy: 0.6653 \n",
      "Epoch 2: val_loss improved from 1.04060 to 0.81048, saving model to .\\model4_best_weights.h5\n",
      "12/12 [==============================] - 146s 12s/step - loss: 0.9434 - accuracy: 0.6653 - val_loss: 0.8105 - val_accuracy: 0.8000\n",
      "Epoch 3/10\n",
      "12/12 [==============================] - ETA: 0s - loss: 0.7481 - accuracy: 0.7583 \n",
      "Epoch 3: val_loss improved from 0.81048 to 0.67393, saving model to .\\model4_best_weights.h5\n",
      "12/12 [==============================] - 164s 14s/step - loss: 0.7481 - accuracy: 0.7583 - val_loss: 0.6739 - val_accuracy: 0.8000\n",
      "Epoch 4/10\n",
      "12/12 [==============================] - ETA: 0s - loss: 0.6149 - accuracy: 0.8153 \n",
      "Epoch 4: val_loss improved from 0.67393 to 0.60083, saving model to .\\model4_best_weights.h5\n",
      "12/12 [==============================] - 151s 13s/step - loss: 0.6149 - accuracy: 0.8153 - val_loss: 0.6008 - val_accuracy: 0.8000\n",
      "Epoch 5/10\n",
      "12/12 [==============================] - ETA: 0s - loss: 0.5337 - accuracy: 0.8444 \n",
      "Epoch 5: val_loss improved from 0.60083 to 0.51798, saving model to .\\model4_best_weights.h5\n",
      "12/12 [==============================] - 146s 12s/step - loss: 0.5337 - accuracy: 0.8444 - val_loss: 0.5180 - val_accuracy: 0.8500\n",
      "Epoch 6/10\n",
      "12/12 [==============================] - ETA: 0s - loss: 0.4830 - accuracy: 0.8569 \n",
      "Epoch 6: val_loss improved from 0.51798 to 0.46373, saving model to .\\model4_best_weights.h5\n",
      "12/12 [==============================] - 172s 15s/step - loss: 0.4830 - accuracy: 0.8569 - val_loss: 0.4637 - val_accuracy: 0.8611\n",
      "Epoch 7/10\n",
      "12/12 [==============================] - ETA: 0s - loss: 0.4172 - accuracy: 0.8694 \n",
      "Epoch 7: val_loss improved from 0.46373 to 0.43467, saving model to .\\model4_best_weights.h5\n",
      "12/12 [==============================] - 167s 14s/step - loss: 0.4172 - accuracy: 0.8694 - val_loss: 0.4347 - val_accuracy: 0.8611\n",
      "Epoch 8/10\n",
      "12/12 [==============================] - ETA: 0s - loss: 0.3949 - accuracy: 0.8806 \n",
      "Epoch 8: val_loss improved from 0.43467 to 0.38985, saving model to .\\model4_best_weights.h5\n",
      "12/12 [==============================] - 153s 13s/step - loss: 0.3949 - accuracy: 0.8806 - val_loss: 0.3898 - val_accuracy: 0.8667\n",
      "Epoch 9/10\n",
      "12/12 [==============================] - ETA: 0s - loss: 0.3615 - accuracy: 0.8847 \n",
      "Epoch 9: val_loss did not improve from 0.38985\n",
      "12/12 [==============================] - 153s 13s/step - loss: 0.3615 - accuracy: 0.8847 - val_loss: 0.3910 - val_accuracy: 0.8722\n",
      "Epoch 10/10\n",
      "12/12 [==============================] - ETA: 0s - loss: 0.3222 - accuracy: 0.9042 \n",
      "Epoch 10: val_loss improved from 0.38985 to 0.33785, saving model to .\\model4_best_weights.h5\n",
      "12/12 [==============================] - 152s 13s/step - loss: 0.3222 - accuracy: 0.9042 - val_loss: 0.3378 - val_accuracy: 0.8944\n"
     ]
    }
   ],
   "source": [
    "with tf.device('/cpu:0'): \n",
    "    history4 = model4.fit(\n",
    "        X_train,\n",
    "        y_train,\n",
    "        epochs=10,\n",
    "        batch_size=64,\n",
    "        callbacks=callbacks_list,\n",
    "        validation_data=(X_val, y_val),\n",
    "        verbose=1,\n",
    "    )"
   ]
  },
  {
   "cell_type": "markdown",
   "metadata": {},
   "source": [
    "<font color=\"orange\">Reprendre l'ensemble des questions précédentes et comparer les deux modèles.</font>"
   ]
  },
  {
   "cell_type": "code",
   "execution_count": 49,
   "metadata": {},
   "outputs": [
    {
     "data": {
      "text/plain": [
       "(1125, 224, 224, 3)"
      ]
     },
     "execution_count": 49,
     "metadata": {},
     "output_type": "execute_result"
    }
   ],
   "source": [
    "X.shape"
   ]
  },
  {
   "cell_type": "code",
   "execution_count": 51,
   "metadata": {},
   "outputs": [
    {
     "name": "stderr",
     "output_type": "stream",
     "text": [
      "c:\\Users\\bspeziale\\AppData\\Local\\pypoetry\\Cache\\virtualenvs\\test-yOZBwoax-py3.11\\Lib\\site-packages\\torchvision\\models\\_utils.py:208: UserWarning: The parameter 'pretrained' is deprecated since 0.13 and may be removed in the future, please use 'weights' instead.\n",
      "  warnings.warn(\n",
      "c:\\Users\\bspeziale\\AppData\\Local\\pypoetry\\Cache\\virtualenvs\\test-yOZBwoax-py3.11\\Lib\\site-packages\\torchvision\\models\\_utils.py:223: UserWarning: Arguments other than a weight enum or `None` for 'weights' are deprecated since 0.13 and may be removed in the future. The current behavior is equivalent to passing `weights=VGG16_Weights.IMAGENET1K_V1`. You can also use `weights=VGG16_Weights.DEFAULT` to get the most up-to-date weights.\n",
      "  warnings.warn(msg)\n"
     ]
    },
    {
     "ename": "TypeError",
     "evalue": "Accuracy.__new__() missing 1 required positional argument: 'task'",
     "output_type": "error",
     "traceback": [
      "\u001b[1;31m---------------------------------------------------------------------------\u001b[0m",
      "\u001b[1;31mTypeError\u001b[0m                                 Traceback (most recent call last)",
      "Cell \u001b[1;32mIn[51], line 125\u001b[0m\n\u001b[0;32m    122\u001b[0m         \u001b[38;5;28;01mreturn\u001b[39;00m loss\n\u001b[0;32m    124\u001b[0m \u001b[38;5;66;03m# Model creation\u001b[39;00m\n\u001b[1;32m--> 125\u001b[0m model \u001b[38;5;241m=\u001b[39m \u001b[43mVGG16Lightning\u001b[49m\u001b[43m(\u001b[49m\u001b[43mnum_classes\u001b[49m\u001b[38;5;241;43m=\u001b[39;49m\u001b[38;5;241;43m4\u001b[39;49m\u001b[43m)\u001b[49m\n\u001b[0;32m    127\u001b[0m \u001b[38;5;66;03m# Callbacks for checkpoint and early stopping\u001b[39;00m\n\u001b[0;32m    128\u001b[0m checkpoint_callback \u001b[38;5;241m=\u001b[39m ModelCheckpoint(\n\u001b[0;32m    129\u001b[0m     monitor\u001b[38;5;241m=\u001b[39m\u001b[38;5;124m'\u001b[39m\u001b[38;5;124mval_loss\u001b[39m\u001b[38;5;124m'\u001b[39m,\n\u001b[0;32m    130\u001b[0m     filename\u001b[38;5;241m=\u001b[39m\u001b[38;5;124m'\u001b[39m\u001b[38;5;124mbest-checkpoint\u001b[39m\u001b[38;5;124m'\u001b[39m,\n\u001b[0;32m    131\u001b[0m     save_top_k\u001b[38;5;241m=\u001b[39m\u001b[38;5;241m1\u001b[39m,\n\u001b[0;32m    132\u001b[0m     mode\u001b[38;5;241m=\u001b[39m\u001b[38;5;124m'\u001b[39m\u001b[38;5;124mmin\u001b[39m\u001b[38;5;124m'\u001b[39m\n\u001b[0;32m    133\u001b[0m )\n",
      "Cell \u001b[1;32mIn[51], line 87\u001b[0m, in \u001b[0;36mVGG16Lightning.__init__\u001b[1;34m(self, num_classes)\u001b[0m\n\u001b[0;32m     85\u001b[0m \u001b[38;5;28mself\u001b[39m\u001b[38;5;241m.\u001b[39mvgg\u001b[38;5;241m.\u001b[39mclassifier[\u001b[38;5;241m6\u001b[39m] \u001b[38;5;241m=\u001b[39m nn\u001b[38;5;241m.\u001b[39mLinear(\u001b[38;5;241m4096\u001b[39m, num_classes)  \u001b[38;5;66;03m# Modify the last layer\u001b[39;00m\n\u001b[0;32m     86\u001b[0m \u001b[38;5;28mself\u001b[39m\u001b[38;5;241m.\u001b[39mcriterion \u001b[38;5;241m=\u001b[39m nn\u001b[38;5;241m.\u001b[39mCrossEntropyLoss()\n\u001b[1;32m---> 87\u001b[0m \u001b[38;5;28mself\u001b[39m\u001b[38;5;241m.\u001b[39mtrain_acc \u001b[38;5;241m=\u001b[39m \u001b[43mAccuracy\u001b[49m\u001b[43m(\u001b[49m\u001b[43m)\u001b[49m\n\u001b[0;32m     88\u001b[0m \u001b[38;5;28mself\u001b[39m\u001b[38;5;241m.\u001b[39mval_acc \u001b[38;5;241m=\u001b[39m Accuracy()\n",
      "\u001b[1;31mTypeError\u001b[0m: Accuracy.__new__() missing 1 required positional argument: 'task'"
     ]
    }
   ],
   "source": [
    "import os\n",
    "from glob import glob\n",
    "import numpy as np\n",
    "import pandas as pd\n",
    "import torch\n",
    "import torch.nn as nn\n",
    "import torch.optim as optim\n",
    "import pytorch_lightning as pl\n",
    "from torchmetrics import Accuracy\n",
    "from sklearn.model_selection import train_test_split\n",
    "from sklearn.metrics import confusion_matrix, classification_report\n",
    "from torchvision import models, transforms\n",
    "from torch.utils.data import DataLoader, Dataset\n",
    "from PIL import Image\n",
    "from pytorch_lightning.callbacks import ModelCheckpoint, EarlyStopping\n",
    "\n",
    "# Path to images and label list\n",
    "IMG_FOLDER = os.getenv(\"IMG_FOLDER\")\n",
    "LABELS_LIST = [\"cloudy\", \"rain\", \"shine\", \"sunrise\"]\n",
    "\n",
    "# Helper functions\n",
    "def get_image_label(img_filename: str, possible_labels=None, label_not_found_value=\"unknown\") -> str:\n",
    "    \"\"\"Extract label from the image file name.\"\"\"\n",
    "    if possible_labels is None:\n",
    "        possible_labels = LABELS_LIST\n",
    "    for label in possible_labels:\n",
    "        if label in img_filename:\n",
    "            return label\n",
    "    return label_not_found_value\n",
    "\n",
    "def create_data_from_img_files(path: str = IMG_FOLDER) -> pd.DataFrame:\n",
    "    \"\"\"Create DataFrame with image paths and labels.\"\"\"\n",
    "    images_list = glob(f\"{path}*/*.jp*\")\n",
    "    df_out = pd.DataFrame(data={\"image_path\": images_list})\n",
    "    df_out[\"label_name\"] = df_out[\"image_path\"].apply(get_image_label)\n",
    "    return df_out\n",
    "\n",
    "# Custom Dataset for loading images\n",
    "class ImageDataset(Dataset):\n",
    "    def __init__(self, img_df, transform=None):\n",
    "        self.img_df = img_df\n",
    "        self.transform = transform\n",
    "        self.label_mapping = {label: i for i, label in enumerate(LABELS_LIST)}\n",
    "\n",
    "    def __len__(self):\n",
    "        return len(self.img_df)\n",
    "\n",
    "    def __getitem__(self, idx):\n",
    "        img_path = self.img_df.iloc[idx][\"image_path\"]\n",
    "        label = self.img_df.iloc[idx][\"label_name\"]\n",
    "        image = Image.open(img_path).convert(\"RGB\")\n",
    "        if self.transform:\n",
    "            image = self.transform(image)\n",
    "        label = self.label_mapping[label]\n",
    "        return image, label\n",
    "\n",
    "# Define transformations\n",
    "transform = transforms.Compose([\n",
    "    transforms.Resize((224, 224)),\n",
    "    transforms.ToTensor(),\n",
    "    transforms.Normalize([0.485, 0.456, 0.406], [0.229, 0.224, 0.225])\n",
    "])\n",
    "\n",
    "# Create DataFrame and split dataset\n",
    "X_train, X_val, y_train, y_val = train_test_split(\n",
    "    X, y, test_size=0.2, stratify=y, random_state=0)\n",
    "\n",
    "\n",
    "# Create datasets and dataloaders\n",
    "train_dataset = ImageDataset(X_train, transform=transform)\n",
    "val_dataset = ImageDataset(X_val, transform=transform)\n",
    "test_dataset = val_dataset  # to be improved\n",
    "\n",
    "train_loader = DataLoader(train_dataset, batch_size=64, shuffle=True)\n",
    "val_loader = DataLoader(val_dataset, batch_size=64, shuffle=False)\n",
    "test_loader = DataLoader(test_dataset, batch_size=64, shuffle=False)\n",
    "\n",
    "# Lightning Model Definition\n",
    "class VGG16Lightning(pl.LightningModule):\n",
    "    def __init__(self, num_classes=4):\n",
    "        super(VGG16Lightning, self).__init__()\n",
    "        self.vgg = models.vgg16(pretrained=True)\n",
    "        for param in self.vgg.parameters():\n",
    "            param.requires_grad = False  # Freeze pretrained layers\n",
    "        self.vgg.classifier[6] = nn.Linear(4096, num_classes)  # Modify the last layer\n",
    "        self.criterion = nn.CrossEntropyLoss()\n",
    "        self.train_acc = Accuracy()\n",
    "        self.val_acc = Accuracy()\n",
    "    \n",
    "    def forward(self, x):\n",
    "        return self.vgg(x)\n",
    "\n",
    "    def configure_optimizers(self):\n",
    "        optimizer = optim.Adam(self.vgg.classifier[6].parameters(), lr=0.001)\n",
    "        return optimizer\n",
    "\n",
    "    def training_step(self, batch, batch_idx):\n",
    "        images, labels = batch\n",
    "        outputs = self(images)\n",
    "        loss = self.criterion(outputs, labels)\n",
    "        acc = self.train_acc(outputs, labels)\n",
    "        self.log('train_loss', loss, prog_bar=True)\n",
    "        self.log('train_acc', acc, prog_bar=True)\n",
    "        return loss\n",
    "\n",
    "    def validation_step(self, batch, batch_idx):\n",
    "        images, labels = batch\n",
    "        outputs = self(images)\n",
    "        loss = self.criterion(outputs, labels)\n",
    "        acc = self.val_acc(outputs, labels)\n",
    "        self.log('val_loss', loss, prog_bar=True)\n",
    "        self.log('val_acc', acc, prog_bar=True)\n",
    "        return loss\n",
    "\n",
    "    def test_step(self, batch, batch_idx):\n",
    "        images, labels = batch\n",
    "        outputs = self(images)\n",
    "        loss = self.criterion(outputs, labels)\n",
    "        acc = self.val_acc(outputs, labels)\n",
    "        self.log('test_loss', loss, prog_bar=True)\n",
    "        self.log('test_acc', acc, prog_bar=True)\n",
    "        return loss\n",
    "\n",
    "# Model creation\n",
    "model = VGG16Lightning(num_classes=4)\n",
    "\n",
    "# Callbacks for checkpoint and early stopping\n",
    "checkpoint_callback = ModelCheckpoint(\n",
    "    monitor='val_loss',\n",
    "    filename='best-checkpoint',\n",
    "    save_top_k=1,\n",
    "    mode='min'\n",
    ")\n",
    "\n",
    "early_stopping_callback = EarlyStopping(\n",
    "    monitor='val_loss',\n",
    "    patience=3,\n",
    "    mode='min'\n",
    ")\n",
    "\n",
    "# Trainer\n",
    "trainer = pl.Trainer(\n",
    "    max_epochs=10,\n",
    "    gpus=1 if torch.cuda.is_available() else 0,\n",
    "    callbacks=[checkpoint_callback, early_stopping_callback]\n",
    ")\n",
    "\n",
    "# Training\n",
    "trainer.fit(model, train_loader, val_loader)\n",
    "\n",
    "# Testing\n",
    "trainer.test(model, test_loader)\n",
    "\n",
    "# Confusion matrix and classification report\n",
    "y_true = []\n",
    "y_pred = []\n",
    "model.eval()\n",
    "with torch.no_grad():\n",
    "    for images, labels in test_loader:\n",
    "        images = images.to('cuda' if torch.cuda.is_available() else 'cpu')\n",
    "        outputs = model(images)\n",
    "        _, predicted = torch.max(outputs, 1)\n",
    "        y_true.extend(labels.cpu().numpy())\n",
    "        y_pred.extend(predicted.cpu().numpy())\n",
    "\n",
    "# Matrice de confusion et rapport de classification\n",
    "conf_mat = confusion_matrix(y_true, y_pred)\n",
    "print(\"Confusion Matrix:\\n\", conf_mat)\n",
    "print(\"Classification Report:\\n\", classification_report(y_true, y_pred, target_names=LABELS_LIST))\n"
   ]
  },
  {
   "cell_type": "code",
   "execution_count": null,
   "metadata": {},
   "outputs": [],
   "source": []
  }
 ],
 "metadata": {
  "hide_input": false,
  "kernelspec": {
   "display_name": "test-yOZBwoax-py3.11",
   "language": "python",
   "name": "python3"
  },
  "language_info": {
   "codemirror_mode": {
    "name": "ipython",
    "version": 3
   },
   "file_extension": ".py",
   "mimetype": "text/x-python",
   "name": "python",
   "nbconvert_exporter": "python",
   "pygments_lexer": "ipython3",
   "version": "3.11.4"
  },
  "toc": {
   "base_numbering": 1,
   "nav_menu": {},
   "number_sections": true,
   "sideBar": true,
   "skip_h1_title": false,
   "title_cell": "Table of Contents",
   "title_sidebar": "Contents",
   "toc_cell": false,
   "toc_position": {
    "height": "calc(100% - 180px)",
    "left": "10px",
    "top": "150px",
    "width": "256px"
   },
   "toc_section_display": true,
   "toc_window_display": true
  },
  "varInspector": {
   "cols": {
    "lenName": 16,
    "lenType": 16,
    "lenVar": 40
   },
   "kernels_config": {
    "python": {
     "delete_cmd_postfix": "",
     "delete_cmd_prefix": "del ",
     "library": "var_list.py",
     "varRefreshCmd": "print(var_dic_list())"
    },
    "r": {
     "delete_cmd_postfix": ") ",
     "delete_cmd_prefix": "rm(",
     "library": "var_list.r",
     "varRefreshCmd": "cat(var_dic_list()) "
    }
   },
   "types_to_exclude": [
    "module",
    "function",
    "builtin_function_or_method",
    "instance",
    "_Feature"
   ],
   "window_display": false
  }
 },
 "nbformat": 4,
 "nbformat_minor": 4
}
