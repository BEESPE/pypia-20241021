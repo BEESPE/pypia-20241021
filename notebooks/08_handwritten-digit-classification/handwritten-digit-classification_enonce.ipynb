{
 "cells": [
  {
   "cell_type": "markdown",
   "metadata": {},
   "source": [
    "Le but de ce TP est de créer un modèle capable de reconnaître (classer) des images de chiffres écrits à la main. MNIST est un jeu de données connu comportant de telles images. <br>\n",
    "Nous allons entraîner pour cela un Support Vector Classifier, qui est un modèle plutôt gourmand (du moins pour certains \"noyaux\").<br>\n",
    "Pour prototyper notre modèle et notre script, nous allons travailler dans un premier temps sur un jeu de données \"léger\"."
   ]
  },
  {
   "cell_type": "markdown",
   "metadata": {},
   "source": [
    "Cellule des imports :"
   ]
  },
  {
   "cell_type": "code",
   "execution_count": 1,
   "metadata": {},
   "outputs": [],
   "source": [
    "# A compléter au fil du TP (regrouper les imports est une bonne pratique)"
   ]
  },
  {
   "cell_type": "markdown",
   "metadata": {},
   "source": [
    "Trouver comment récupérer le jeu de données des chiffres écrits à la main (hand-written digits en Shakespeare) de scitkit-learn."
   ]
  },
  {
   "cell_type": "code",
   "execution_count": 2,
   "metadata": {},
   "outputs": [],
   "source": [
    "# Votre code ici"
   ]
  },
  {
   "cell_type": "markdown",
   "metadata": {},
   "source": [
    "Vérifier le type et la taille du jeu de données."
   ]
  },
  {
   "cell_type": "code",
   "execution_count": null,
   "metadata": {},
   "outputs": [],
   "source": [
    "# Votre code ici"
   ]
  },
  {
   "cell_type": "markdown",
   "metadata": {},
   "source": [
    "Afficher les 5 premières images du jeu, ainsi que le label associé (label = la vraie valeur du chiffre correspondant à l'image)."
   ]
  },
  {
   "cell_type": "code",
   "execution_count": null,
   "metadata": {},
   "outputs": [],
   "source": [
    "# Votre code ici"
   ]
  },
  {
   "cell_type": "markdown",
   "metadata": {},
   "source": [
    "Séparer le jeu de données en un jeu d'entraînement et un jeu de test (vous pouvez utiliser la fonction train_test_split de sklearn.model_selection pour cela). Adopter le nommage suivant :\n",
    "- X_train pour les données explicatives (ici les images) du jeu d'entraînement,\n",
    "- y_train pour les labels du jeu d'entraînement,\n",
    "- X_test pour les données explicatives (ici les images) du jeu de test,\n",
    "- y_test pour les labels du jeu de test.\n",
    "\n",
    "Chaque image devra être représentée sur une seule dimension (et X_train et X_test auront 2 dimensions : nombre d'images x nombre de pixels). Si cette consigne n'est pas déjà vérifiée, redimensionner les jeux X_train et X_test de sorte à \"aplatir\" chaque image, grâce à votre connaissance pointue de NumPy (ou de la langue de Shakespeare). "
   ]
  },
  {
   "cell_type": "code",
   "execution_count": 5,
   "metadata": {},
   "outputs": [],
   "source": [
    "# Votre code ici"
   ]
  },
  {
   "cell_type": "markdown",
   "metadata": {},
   "source": [
    "En fouillant dans scikit-learn, instancier un Support Vector Classifier. Utiliser le paramètre de régularisation par défaut. Choisir le kernel rbf associé à un coefficient de 0,002."
   ]
  },
  {
   "cell_type": "code",
   "execution_count": 7,
   "metadata": {},
   "outputs": [],
   "source": [
    "# Votre code ici"
   ]
  },
  {
   "cell_type": "markdown",
   "metadata": {},
   "source": [
    "Entraîner le modèle sur le jeu d'entraînement. Vous pouvez à nouveau consulter la documentation de scikit-learn. Ce modèle respecte l'API scikit-learn (comme l'ensemble des modèles fournis par scikit-learn). Ne pas oublier de revenir au jeu de données initial lorsque le code sera fonctionnel !"
   ]
  },
  {
   "cell_type": "code",
   "execution_count": null,
   "metadata": {},
   "outputs": [],
   "source": [
    "# Votre code ici"
   ]
  },
  {
   "cell_type": "markdown",
   "metadata": {},
   "source": [
    "Prédire les valeurs des images du jeu de test."
   ]
  },
  {
   "cell_type": "code",
   "execution_count": 9,
   "metadata": {},
   "outputs": [],
   "source": [
    "# Votre code ici"
   ]
  },
  {
   "cell_type": "markdown",
   "metadata": {},
   "source": [
    "Visualiser les prédictions ainsi que les valeurs réelles pour les 5 premières images du jeu de test."
   ]
  },
  {
   "cell_type": "code",
   "execution_count": null,
   "metadata": {},
   "outputs": [],
   "source": [
    "# Votre code ici"
   ]
  },
  {
   "cell_type": "markdown",
   "metadata": {},
   "source": [
    "Afficher la \"matrice de confusion\" associée aux vecteurs de prédictions et de labels du jeu de test."
   ]
  },
  {
   "cell_type": "code",
   "execution_count": null,
   "metadata": {},
   "outputs": [],
   "source": [
    "# Votre code ici"
   ]
  },
  {
   "cell_type": "markdown",
   "metadata": {},
   "source": [
    "De même, afficher le \"rapport de classification\"."
   ]
  },
  {
   "cell_type": "code",
   "execution_count": null,
   "metadata": {},
   "outputs": [],
   "source": [
    "# Votre code ici"
   ]
  },
  {
   "cell_type": "markdown",
   "metadata": {},
   "source": [
    "On propose maintenant de travailler sur un jeu un peu plus fourni, et de meilleure résolution. Trouver le jeu de données original MNIST dans tensorflow.keras. Travailler sur un échantillon d'entraînement de 10000 images. Adapter le code précédent lorsque nécessaire. Préférer un noyau linéaire. L'exécution va prendre un temps non négligeable. Pendant ce temps, à partir de la doc de son jumeau SVR (https://scikit-learn.org/1.5/modules/generated/sklearn.svm.SVR.html), trouver un O de la complexité algorithmique du fit de ces modèles."
   ]
  },
  {
   "cell_type": "code",
   "execution_count": null,
   "metadata": {},
   "outputs": [],
   "source": [
    "# Votre code ici"
   ]
  }
 ],
 "metadata": {
  "kernelspec": {
   "display_name": "test-yOZBwoax-py3.11",
   "language": "python",
   "name": "python3"
  },
  "language_info": {
   "codemirror_mode": {
    "name": "ipython",
    "version": 3
   },
   "file_extension": ".py",
   "mimetype": "text/x-python",
   "name": "python",
   "nbconvert_exporter": "python",
   "pygments_lexer": "ipython3",
   "version": "3.11.4"
  }
 },
 "nbformat": 4,
 "nbformat_minor": 2
}
